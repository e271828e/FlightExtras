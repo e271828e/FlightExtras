{
 "cells": [
  {
   "cell_type": "code",
   "execution_count": 1,
   "metadata": {},
   "outputs": [],
   "source": [
    "using Flight\n",
    "using Unitful\n",
    "using StaticArrays\n"
   ]
  },
  {
   "cell_type": "markdown",
   "metadata": {},
   "source": [
    "Let fh(Oh,εh) denote the construction reference frame used by JSBSim. The origin $O_h$ is an arbitrary point, and the axes $\\varepsilon_h$ have x pointing backward and z upward.\n",
    "\n",
    "Let fb(Ob,εb) denote our main body frame, where εb denote the conventional flight physics axes, x pointing forward and z downward. The rotation from $\\varepsilon_b$ to $\\varepsilon_h$ is thus given by:"
   ]
  },
  {
   "cell_type": "code",
   "execution_count": 2,
   "metadata": {},
   "outputs": [
    {
     "data": {
      "text/plain": [
       "REuler(3.141592653589793, -1.4997597826618576e-32, 3.141592653589793)"
      ]
     },
     "metadata": {},
     "output_type": "display_data"
    }
   ],
   "source": [
    "q_bh = REuler(ψ = π, φ = π)\n",
    "q_hb = q_bh'"
   ]
  },
  {
   "cell_type": "markdown",
   "metadata": {},
   "source": [
    "Now, as our vehicle reference frame origin $O_b$, we select the aerodynamics reference point $O_a$.\n",
    "Its position is given by JSBSim as:"
   ]
  },
  {
   "cell_type": "code",
   "execution_count": 3,
   "metadata": {},
   "outputs": [
    {
     "data": {
      "text/plain": [
       "3-element Vector{Float64}:\n",
       " 1.09728\n",
       " 0.0\n",
       " 1.5087599999999999"
      ]
     },
     "metadata": {},
     "output_type": "display_data"
    }
   ],
   "source": [
    "r_OhOb_h = r_OhOa_h = ustrip.(u\"m\", [43.2, 0, 59.4]u\"inch\")"
   ]
  },
  {
   "cell_type": "markdown",
   "metadata": {},
   "source": [
    "We can now define the `FrameTransform` between both frames as:"
   ]
  },
  {
   "cell_type": "code",
   "execution_count": 4,
   "metadata": {},
   "outputs": [
    {
     "data": {
      "text/plain": [
       "FrameTransform([1.09728, -3.191478544449968e-16, 1.5087599999999999], RQuat([-3.749399456654644e-33, -6.123233995736766e-17, -1.0, -6.123233995736766e-17]))"
      ]
     },
     "metadata": {},
     "output_type": "display_data"
    }
   ],
   "source": [
    "t_hb = FrameTransform(r = r_OhOb_h, q = q_hb)\n",
    "t_bh = t_hb'"
   ]
  },
  {
   "cell_type": "markdown",
   "metadata": {},
   "source": [
    "And a helper function to process raw JSBSim position vectors by first converting them to SI units\n",
    "and then transforming them to our main reference frame f_b:"
   ]
  },
  {
   "cell_type": "code",
   "execution_count": 5,
   "metadata": {},
   "outputs": [
    {
     "data": {
      "text/plain": [
       "fromJSBSim (generic function with 1 method)"
      ]
     },
     "metadata": {},
     "output_type": "display_data"
    }
   ],
   "source": [
    "fromJSBSim(v::AbstractVector{<:Real}) = ustrip.(u\"m\", v * u\"inch\") |> t_bh |> SVector{3,Float64}"
   ]
  },
  {
   "cell_type": "markdown",
   "metadata": {},
   "source": [
    "With this, we can convert all the following position vectors defined in JSBSim's construction frame to our flight physics conventional reference frame:\n",
    "- G0 (center of mass for the empty aircraft)\n",
    "- G1 (center of mass of the pilot)\n",
    "- G2 (center of mass of copilot)\n",
    "- G3 (center of mass of left passenger)\n",
    "- G4 (center of mass of right passenger)\n",
    "- G5 (center of mass of baggage)\n",
    "- G6 (center of mass of left fuel tank)\n",
    "- G7 (center of mass of right fuel tank)\n",
    "- N (nose landing gear origin)\n",
    "- L (left main landing gear origin)\n",
    "- R (right main landing gear origin)\n",
    "- P (propeller origin)"
   ]
  },
  {
   "cell_type": "code",
   "execution_count": 6,
   "metadata": {},
   "outputs": [
    {
     "name": "stdout",
     "output_type": "stream",
     "text": [
      "r_ObG0_b = fromJSBSim([41, 0, 36.5]) = [0.05588000000000015, -7.807613203284035e-17, 0.58166]\n",
      "r_ObG1_b = fromJSBSim([36, -14, 24]) = [0.18288000000000004, -0.3556000000000002, 0.8991599999999998]\n",
      "r_ObG2_b = fromJSBSim([36, 14, 24]) = [0.18288000000000004, 0.35559999999999986, 0.8991599999999998]\n",
      "r_ObG3_b = fromJSBSim([70, -14, 24]) = [-0.68072, -0.3556000000000001, 0.8991599999999998]\n",
      "r_ObG4_b = fromJSBSim([70, 14, 24]) = [-0.68072, 0.35559999999999997, 0.8991599999999998]\n",
      "r_ObG5_b = fromJSBSim([95, 0, 24]) = [-1.3157199999999998, 5.101388706528218e-17, 0.8991599999999998]\n",
      "r_ObG6_b = fromJSBSim([56, -112, 59.4]) = [-0.3251200000000003, -2.8447999999999998, -4.440892098500626e-16]\n",
      "r_ObG7_b = fromJSBSim([56, 112, 59.4]) = [-0.3251199999999994, 2.8447999999999998, 4.440892098500626e-16]\n",
      "r_ObN_b = fromJSBSim([-6.8, 0, -19.5]) = [1.27, -4.009567099216383e-16, 2.00406]\n",
      "r_ObL_b = fromJSBSim([58.2, -43, -15.5]) = [-0.381, -1.0922, 1.9024599999999998]\n",
      "r_ObR_b = fromJSBSim([58.2, 43, -15.5]) = [-0.381, 1.0922, 1.90246]\n",
      "r_ObP_b = fromJSBSim([-37.7, 0, 26.6]) = [2.05486, -3.536755463001573e-16, 0.8331199999999999]\n"
     ]
    },
    {
     "data": {
      "text/plain": [
       "3-element SVector{3, Float64} with indices SOneTo(3):\n",
       "  2.05486\n",
       " -3.536755463001573e-16\n",
       "  0.8331199999999999"
      ]
     },
     "metadata": {},
     "output_type": "display_data"
    }
   ],
   "source": [
    "@show r_ObG0_b = fromJSBSim([41, 0, 36.5])\n",
    "@show r_ObG1_b = fromJSBSim([36, -14, 24])\n",
    "@show r_ObG2_b = fromJSBSim([36, 14, 24])\n",
    "@show r_ObG3_b = fromJSBSim([70, -14, 24])\n",
    "@show r_ObG4_b = fromJSBSim([70, 14, 24])\n",
    "@show r_ObG5_b = fromJSBSim([95, 0, 24])\n",
    "@show r_ObG6_b = fromJSBSim([56, -112, 59.4])\n",
    "@show r_ObG7_b = fromJSBSim([56, 112, 59.4])\n",
    "@show r_ObN_b = fromJSBSim([-6.8, 0, -19.5])\n",
    "@show r_ObL_b = fromJSBSim([58.2, -43, -15.5])\n",
    "@show r_ObR_b = fromJSBSim([58.2, 43, -15.5])\n",
    "@show r_ObP_b = fromJSBSim([-37.7, 0, 26.6])"
   ]
  },
  {
   "cell_type": "markdown",
   "metadata": {},
   "source": [
    "From Wikipedia, we know the mass of the empty 172R is 767 kg. The inertia tensor with respect to its own center of mass $G_0$, projected in axes $\\varepsilon_b$ (that is, $J_{0[G_0]}^{b}$) can be estimated from the values given by Roskam for a similar configuration but with a different mass (2650 lbs). We can simply scale the inertia values to our actual empty mass. This is not totally accurate, because:\n",
    "- The airframe dimensions may also be different, not just the mass.\n",
    "- Some of the mass difference may be due to fuel contents, and these are relatively far from the CG."
   ]
  },
  {
   "cell_type": "code",
   "execution_count": 10,
   "metadata": {},
   "outputs": [
    {
     "name": "stderr",
     "output_type": "stream",
     "text": [
      "WARNING: redefinition of constant mp_b_afm. This may fail, cause incorrect answers, or produce other errors.\n"
     ]
    },
    {
     "data": {
      "text/plain": [
       "RigidBody(767.0, [955.9509749068076 0.0 0.0; 0.0 1357.2890424309735 0.0; 0.0 0.0 1983.4974342211926])"
      ]
     },
     "metadata": {},
     "output_type": "display_data"
    }
   ],
   "source": [
    "# J0_G0_b =  ustrip.(u\"kg*m^2\", [948 0 0; 0 1346 0; 0 0 1967]u\"slug*ft^2\")\n",
    "m0 = 767\n",
    "J0_G0_b = 894/ustrip(u\"kg\", 2650u\"lb\") * ustrip.(u\"kg*m^2\", [948 0 0; 0 1346 0; 0 0 1967]u\"slug*ft^2\")\n",
    "c0 = RigidBodyDistribution(m0, J0_G0_b)"
   ]
  }
 ],
 "metadata": {
  "kernelspec": {
   "display_name": "Julia 1.7.2",
   "language": "julia",
   "name": "julia-1.7"
  },
  "language_info": {
   "file_extension": ".jl",
   "mimetype": "application/julia",
   "name": "julia",
   "version": "1.7.2"
  },
  "orig_nbformat": 4
 },
 "nbformat": 4,
 "nbformat_minor": 2
}
