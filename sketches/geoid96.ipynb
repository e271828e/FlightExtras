{
 "cells": [
  {
   "cell_type": "code",
   "execution_count": 14,
   "metadata": {},
   "outputs": [
    {
     "data": {
      "text/plain": [
       "721×1441 Matrix{Float32}:\n",
       " -29.534  -29.534  -29.534  -29.534  …  -29.534  -29.534  -29.534  -29.534\n",
       " -29.547  -29.548  -29.549  -29.55      -29.545  -29.546  -29.546  -29.547\n",
       " -29.605  -29.607  -29.61   -29.612     -29.599  -29.601  -29.603  -29.605\n",
       " -28.964  -28.965  -28.966  -28.967     -28.961  -28.962  -28.963  -28.964\n",
       " -27.88   -27.878  -27.876  -27.874     -27.886  -27.884  -27.882  -27.88\n",
       " -27.088  -27.084  -27.08   -27.075  …  -27.102  -27.097  -27.093  -27.088\n",
       " -26.581  -26.576  -26.57   -26.564     -26.599  -26.593  -26.587  -26.581\n",
       " -25.836  -25.826  -25.816  -25.806     -25.867  -25.857  -25.847  -25.836\n",
       " -24.897  -24.877  -24.857  -24.838     -24.955  -24.936  -24.916  -24.897\n",
       " -24.246  -24.217  -24.188  -24.159     -24.335  -24.305  -24.276  -24.246\n",
       "   ⋮                                 ⋱                               ⋮\n",
       "  17.632   17.626   17.62    17.615      17.651   17.645   17.638   17.632\n",
       "  17.042   17.035   17.029   17.022      17.064   17.057   17.05    17.042\n",
       "  16.466   16.462   16.458   16.454      16.479   16.474   16.47    16.466\n",
       "  15.922   15.921   15.919   15.917  …   15.927   15.925   15.924   15.922\n",
       "  15.452   15.451   15.449   15.447      15.456   15.455   15.453   15.452\n",
       "  14.979   14.977   14.974   14.972      14.985   14.983   14.981   14.979\n",
       "  14.423   14.421   14.419   14.417      14.429   14.427   14.425   14.423\n",
       "  13.903   13.902   13.901   13.9        13.906   13.905   13.904   13.903\n",
       "  13.606   13.606   13.606   13.606  …   13.606   13.606   13.606   13.606"
      ]
     },
     "metadata": {},
     "output_type": "display_data"
    }
   ],
   "source": [
    "using DelimitedFiles\n",
    "using HDF5\n",
    "\n",
    "A = readdlm(\"ww15mgh.grd\", skipstart = 1)\n",
    "A1 = permutedims(A); #transpose into column major order\n",
    "a1 = vec(A1); #concatenate into a vector to remove unwanted string elements\n",
    "a1_clean = filter(x -> !(x isa AbstractString), a1);\n",
    "a_f32 = convert(Array{Float32, 1}, a1_clean) #cast to Float32\n",
    "#we know that each sequence of 1441 elements corresponds to a constant-latitude\n",
    "#set of values. after reshaping, each column is a constant-latitude set of\n",
    "#values running over lon [-pi, pi]\n",
    "A_F32 = reshape(a_f32, 1441, :); \n",
    "A_F32 = permutedims(A_F32); #transpose so that each row corresponds to a latitude value\n",
    "#in the original text file latitude decreases from π/2 to -π/2, we need to flip\n",
    "#it!\n",
    "A_final = reverse(A_F32, dims = 1);\n",
    "\n",
    "#write as big endian\n",
    "open(\"ww15mgh_be.bin\", \"w\") do f #opens the specified file, returns it as f, and applies to it the function in the block \n",
    "    write(f, hton.(A_final))\n",
    "end\n",
    "\n",
    "#write as little endian\n",
    "open(\"ww15mgh_le.bin\", \"w\") do f #opens the specified file, returns it as f, and applies to it the function in the block \n",
    "    write(f, htol.(A_final))\n",
    "end\n",
    "\n",
    "#write as HDF5\n",
    "h5open(\"ww15mgh_hdf5.h5\", \"w\") do f\n",
    "    f[\"geoid_height\"] = A_final\n",
    "end\n",
    "\n"
   ]
  },
  {
   "cell_type": "code",
   "execution_count": 15,
   "metadata": {},
   "outputs": [
    {
     "ename": "SystemError",
     "evalue": "SystemError: opening file \"ww15mgh_be.bin\": No such file or directory",
     "output_type": "error",
     "traceback": [
      "SystemError: opening file \"ww15mgh_be.bin\": No such file or directory\n",
      "\n",
      "Stacktrace:\n",
      "  [1] systemerror(p::String, errno::Int32; extrainfo::Nothing)\n",
      "    @ Base .\\error.jl:168\n",
      "  [2] #systemerror#62\n",
      "    @ .\\error.jl:167 [inlined]\n",
      "  [3] systemerror\n",
      "    @ .\\error.jl:167 [inlined]\n",
      "  [4] open(fname::String; lock::Bool, read::Bool, write::Nothing, create::Nothing, truncate::Nothing, append::Nothing)\n",
      "    @ Base .\\iostream.jl:293\n",
      "  [5] open(fname::String, mode::String; lock::Bool)\n",
      "    @ Base .\\iostream.jl:355\n",
      "  [6] open(fname::String, mode::String)\n",
      "    @ Base .\\iostream.jl:355\n",
      "  [7] open(::var\"#119#120\", ::String, ::Vararg{String, N} where N; kwargs::Base.Iterators.Pairs{Union{}, Union{}, Tuple{}, NamedTuple{(), Tuple{}}})\n",
      "    @ Base .\\io.jl:328\n",
      "  [8] open(::Function, ::String, ::String)\n",
      "    @ Base .\\io.jl:328\n",
      "  [9] top-level scope\n",
      "    @ ~\\Repos\\Julia\\Flight\\sketches\\geoid96.ipynb:3\n",
      " [10] eval\n",
      "    @ .\\boot.jl:360 [inlined]\n",
      " [11] include_string(mapexpr::typeof(REPL.softscope), mod::Module, code::String, filename::String)\n",
      "    @ Base .\\loading.jl:1094\n",
      " [12] #invokelatest#2\n",
      "    @ .\\essentials.jl:708 [inlined]\n",
      " [13] invokelatest\n",
      "    @ .\\essentials.jl:706 [inlined]\n",
      " [14] (::VSCodeServer.var\"#146#147\"{VSCodeServer.NotebookRunCellArguments, String})()\n",
      "    @ VSCodeServer ~\\.vscode\\extensions\\julialang.language-julia-1.5.10\\scripts\\packages\\VSCodeServer\\src\\serve_notebook.jl:18\n",
      " [15] withpath(f::VSCodeServer.var\"#146#147\"{VSCodeServer.NotebookRunCellArguments, String}, path::String)\n",
      "    @ VSCodeServer ~\\.vscode\\extensions\\julialang.language-julia-1.5.10\\scripts\\packages\\VSCodeServer\\src\\repl.jl:185\n",
      " [16] notebook_runcell_request(conn::VSCodeServer.JSONRPC.JSONRPCEndpoint{Base.PipeEndpoint, Base.PipeEndpoint}, params::VSCodeServer.NotebookRunCellArguments)\n",
      "    @ VSCodeServer ~\\.vscode\\extensions\\julialang.language-julia-1.5.10\\scripts\\packages\\VSCodeServer\\src\\serve_notebook.jl:14\n",
      " [17] dispatch_msg(x::VSCodeServer.JSONRPC.JSONRPCEndpoint{Base.PipeEndpoint, Base.PipeEndpoint}, dispatcher::VSCodeServer.JSONRPC.MsgDispatcher, msg::Dict{String, Any})\n",
      "    @ VSCodeServer.JSONRPC ~\\.vscode\\extensions\\julialang.language-julia-1.5.10\\scripts\\packages\\JSONRPC\\src\\typed.jl:67\n",
      " [18] serve_notebook(pipename::String; crashreporting_pipename::String)\n",
      "    @ VSCodeServer ~\\.vscode\\extensions\\julialang.language-julia-1.5.10\\scripts\\packages\\VSCodeServer\\src\\serve_notebook.jl:94\n",
      " [19] top-level scope\n",
      "    @ ~\\.vscode\\extensions\\julialang.language-julia-1.5.10\\scripts\\notebook\\notebook.jl:12\n",
      " [20] include(mod::Module, _path::String)\n",
      "    @ Base .\\Base.jl:386\n",
      " [21] exec_options(opts::Base.JLOptions)\n",
      "    @ Base .\\client.jl:285\n",
      " [22] _start()\n",
      "    @ Base .\\client.jl:485"
     ]
    }
   ],
   "source": [
    "#read from big endian\n",
    "A_tmp = Matrix{Float32}(undef, 721, 1441)\n",
    "open(\"ww15mgh_be.bin\", \"r\") do f\n",
    "    read!(f, A_tmp)\n",
    "end\n",
    "A_retrieved = ntoh.(A_tmp)\n",
    "@assert all(A_retrieved[end,:] .== Float32(13.606))\n",
    "@assert all(A_retrieved[1,:] .== Float32(-29.534))\n",
    "\n",
    "#read from little endian\n",
    "A_tmp = Matrix{Float32}(undef, 721, 1441)\n",
    "open(\"ww15mgh_le.bin\", \"r\") do f\n",
    "    read!(f, A_tmp)\n",
    "end\n",
    "A_retrieved = ltoh.(A_tmp)\n",
    "@assert all(A_retrieved[end,:] .== Float32(13.606))\n",
    "@assert all(A_retrieved[1,:] .== Float32(-29.534))\n",
    "\n",
    "#read from HDF5\n",
    "h5open(\"ww15mgh_hdf5.h5\", \"r\") do f\n",
    "    A_retrieved = f[\"geoid_height\"] |> read\n",
    "    A_retrieved[:,500] |> println\n",
    "end\n",
    "@assert all(A_retrieved[end,:] .== Float32(13.606))\n",
    "@assert all(A_retrieved[1,:] .== Float32(-29.534))"
   ]
  },
  {
   "cell_type": "code",
   "execution_count": null,
   "metadata": {},
   "outputs": [],
   "source": []
  },
  {
   "cell_type": "code",
   "execution_count": null,
   "metadata": {},
   "outputs": [],
   "source": []
  },
  {
   "cell_type": "code",
   "execution_count": 12,
   "metadata": {},
   "outputs": [],
   "source": [
    "B = []"
   ]
  }
 ],
 "metadata": {
  "kernelspec": {
   "display_name": "Julia 1.6.0",
   "language": "julia",
   "name": "julia-1.6"
  },
  "language_info": {
   "file_extension": ".jl",
   "mimetype": "application/julia",
   "name": "julia",
   "version": "1.6.0"
  },
  "orig_nbformat": 4
 },
 "nbformat": 4,
 "nbformat_minor": 2
}
